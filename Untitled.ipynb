{
 "cells": [
  {
   "cell_type": "markdown",
   "metadata": {},
   "source": [
    "# 第1章: 準備運動\n",
    "## 00. 文字列の逆順\n",
    "文字列\"stressed\"の文字を逆に（末尾から先頭に向かって）並べた文字列を得よ．"
   ]
  },
  {
   "cell_type": "code",
   "execution_count": 1,
   "metadata": {},
   "outputs": [
    {
     "name": "stdout",
     "output_type": "stream",
     "text": [
      "desserts\n"
     ]
    }
   ],
   "source": [
    "print('stressed'[::-1])"
   ]
  },
  {
   "cell_type": "markdown",
   "metadata": {},
   "source": [
    "## 01. 「パタトクカシーー」\n",
    "「パタトクカシーー」という文字列の1,3,5,7文字目を取り出して連結した文字列を得よ．"
   ]
  },
  {
   "cell_type": "code",
   "execution_count": 2,
   "metadata": {},
   "outputs": [
    {
     "name": "stdout",
     "output_type": "stream",
     "text": [
      "パトカー\n"
     ]
    }
   ],
   "source": [
    "print('パタトクカシーー'[::2])"
   ]
  },
  {
   "cell_type": "markdown",
   "metadata": {},
   "source": [
    "## 02. 「パトカー」＋「タクシー」＝「パタトクカシーー」\n",
    "「パトカー」＋「タクシー」の文字を先頭から交互に連結して文字列「パタトクカシーー」を得よ．"
   ]
  },
  {
   "cell_type": "code",
   "execution_count": 3,
   "metadata": {},
   "outputs": [
    {
     "name": "stdout",
     "output_type": "stream",
     "text": [
      "パタトクカシーー\n"
     ]
    }
   ],
   "source": [
    "print(''.join(['パトカー'[i]+'タクシー'[i] for i in range(4)]))"
   ]
  },
  {
   "cell_type": "markdown",
   "metadata": {},
   "source": [
    "## 03. 円周率\n",
    "\"Now I need a drink, alcoholic of course, after the heavy lectures involving quantum mechanics.\"という文を単語に分解し，各単語の（アルファベットの）文字数を先頭から出現順に並べたリストを作成せよ．"
   ]
  },
  {
   "cell_type": "code",
   "execution_count": 4,
   "metadata": {},
   "outputs": [
    {
     "name": "stdout",
     "output_type": "stream",
     "text": [
      "[3, 1, 4, 1, 6, 9, 2, 7, 5, 3, 5, 8, 9, 7, 10]\n"
     ]
    }
   ],
   "source": [
    "print(list(map(len, 'Now I need a drink, alcoholic of course, after the heavy lectures involving quantum mechanics.'.split())))"
   ]
  },
  {
   "cell_type": "markdown",
   "metadata": {},
   "source": [
    "## 04. 元素記号\n",
    "\"Hi He Lied Because Boron Could Not Oxidize Fluorine. New Nations Might Also Sign Peace Security Clause. Arthur King Can.\"という文を単語に分解し，1, 5, 6, 7, 8, 9, 15, 16, 19番目の単語は先頭の1文字，それ以外の単語は先頭に2文字を取り出し，取り出した文字列から単語の位置（先頭から何番目の単語か）への連想配列（辞書型もしくはマップ型）を作成せよ．"
   ]
  },
  {
   "cell_type": "code",
   "execution_count": 5,
   "metadata": {},
   "outputs": [
    {
     "name": "stdout",
     "output_type": "stream",
     "text": [
      "{'H': 1, 'He': 2, 'Li': 3, 'Be': 4, 'B': 5, 'C': 6, 'N': 7, 'O': 8, 'F': 9, 'Ne': 10, 'Na': 11, 'Mi': 12, 'Al': 13, 'Si': 14, 'P': 15, 'S': 16, 'Cl': 17, 'Ar': 18, 'K': 19, 'Ca': 20}\n",
      "{'H': 1, 'He': 2, 'Li': 3, 'Be': 4, 'B': 5, 'C': 6, 'N': 7, 'O': 8, 'F': 9, 'Ne': 10, 'Na': 11, 'Mi': 12, 'Al': 13, 'Si': 14, 'P': 15, 'S': 16, 'Cl': 17, 'Ar': 18, 'K': 19, 'Ca': 20}\n"
     ]
    }
   ],
   "source": [
    "specific_indexes = (1, 5, 6, 7, 8, 9, 15, 16, 19)\n",
    "words = 'Hi He Lied Because Boron Could Not Oxidize Fluorine. New Nations Might Also Sign Peace Security Clause. Arthur King Can.'.split()\n",
    "\n",
    "ans = {}\n",
    "for i, x in enumerate(words):\n",
    "    if i+1 in specific_indexes:\n",
    "        ans.update({x[0]:i+1})\n",
    "    else:\n",
    "        ans.update({x[:2]:i+1})\n",
    "print(ans)\n",
    "\n",
    "# 別解\n",
    "print({v: k+1 for k, v in {i:x[:1] if i+1 in specific_indexes else x[:2] for i, x in enumerate(words)}.items()})"
   ]
  },
  {
   "cell_type": "markdown",
   "metadata": {},
   "source": [
    "## 05. n-gram\n",
    "与えられたシーケンス（文字列やリストなど）からn-gramを作る関数を作成せよ．この関数を用い，\"I am an NLPer\"という文から単語bi-gram，文字bi-gramを得よ．"
   ]
  },
  {
   "cell_type": "code",
   "execution_count": 6,
   "metadata": {},
   "outputs": [
    {
     "name": "stdout",
     "output_type": "stream",
     "text": [
      "文字： ['I ', ' a', 'am', 'm ', ' a', 'an', 'n ', ' N', 'NL', 'LP', 'Pe', 'er', 'r']\n",
      "単語： ['Iam', 'aman', 'anNLPer', 'NLPer']\n"
     ]
    }
   ],
   "source": [
    "sentence = \"I am an NLPer\"\n",
    "\n",
    "def n_gram(iterator, n=2):\n",
    "    return [''.join(iterator[i:i+n]) for i in range(len(iterator))]\n",
    "\n",
    "print('文字：', n_gram(sentence))\n",
    "words = sentence.split()\n",
    "print('単語：', n_gram(words))"
   ]
  },
  {
   "cell_type": "markdown",
   "metadata": {},
   "source": [
    "## 06. 集合\n",
    "\"paraparaparadise\"と\"paragraph\"に含まれる文字bi-gramの集合を，それぞれ, XとYとして求め，XとYの和集合，積集合，差集合を求めよ．さらに，'se'というbi-gramがXおよびYに含まれるかどうかを調べよ．"
   ]
  },
  {
   "cell_type": "code",
   "execution_count": 7,
   "metadata": {},
   "outputs": [
    {
     "name": "stdout",
     "output_type": "stream",
     "text": [
      "和集合： {'ap', 'ph', 'h', 'is', 'ad', 'gr', 'ag', 'ra', 'di', 'pa', 'se', 'e', 'ar'}\n",
      "積集合： {'ra', 'ap', 'pa', 'ar'}\n",
      "差集合(X-Y)： {'is', 'ad', 'di', 'se', 'e'}\n",
      "差集合(Y-X)： {'ph', 'gr', 'ag', 'h'}\n",
      "X： True Y： False\n"
     ]
    }
   ],
   "source": [
    "word1 = 'paraparaparadise'\n",
    "word2 = 'paragraph'\n",
    "X = n_gram(word1)\n",
    "Y = n_gram(word2)\n",
    "print('和集合：',set(X) | set(Y))\n",
    "print('積集合：',set(X) & set(Y))\n",
    "print('差集合(X-Y)：',set(X) - set(Y))\n",
    "print('差集合(Y-X)：',set(Y) - set(X))\n",
    "print('X：','se' in X,'Y：', 'se' in Y)"
   ]
  },
  {
   "cell_type": "markdown",
   "metadata": {},
   "source": [
    "## 07. テンプレートによる文生成\n",
    "引数x, y, zを受け取り「x時のyはz」という文字列を返す関数を実装せよ．さらに，x=12, y=\"気温\", z=22.4として，実行結果を確認せよ．"
   ]
  },
  {
   "cell_type": "code",
   "execution_count": 8,
   "metadata": {},
   "outputs": [
    {
     "name": "stdout",
     "output_type": "stream",
     "text": [
      "12時の気温は22.4\n"
     ]
    }
   ],
   "source": [
    "def xyz(x, y, z):\n",
    "    return str(x)+'時の'+str(y)+'は'+str(z)\n",
    "\n",
    "print(xyz(12, '気温', 22.4))"
   ]
  },
  {
   "cell_type": "markdown",
   "metadata": {},
   "source": [
    "## 08. 暗号文\n",
    "与えられた文字列の各文字を，以下の仕様で変換する関数cipherを実装せよ．\n",
    "- 英小文字ならば(219 - 文字コード)の文字に置換\n",
    "- その他の文字はそのまま出力\n",
    "\n",
    "この関数を用い，英語のメッセージを暗号化・復号化せよ．"
   ]
  },
  {
   "cell_type": "code",
   "execution_count": 9,
   "metadata": {},
   "outputs": [
    {
     "name": "stdout",
     "output_type": "stream",
     "text": [
      "zA1 あ#〜\n",
      "yA1 あ#〜\n"
     ]
    }
   ],
   "source": [
    "def cipher(str):\n",
    "    return ''.join([chr(219-ord(i)) if i.isalpha() and i.islower() else i for i in str])\n",
    "\n",
    "print(cipher('aA1 あ#〜'))\n",
    "\n",
    "# 別解\n",
    "import re\n",
    "\n",
    "def cipher2(str):\n",
    "    return re.sub('[a-z]', lambda m: chr(219-ord(m.group())), str)\n",
    "\n",
    "print(cipher2('bA1 あ#〜'))"
   ]
  },
  {
   "cell_type": "markdown",
   "metadata": {},
   "source": [
    "## 09. Typoglycemia\n",
    "スペースで区切られた単語列に対して，各単語の先頭と末尾の文字は残し，それ以外の文字の順序をランダムに並び替えるプログラムを作成せよ．ただし，長さが４以下の単語は並び替えないこととする．適当な英語の文（例えば\"I couldn't believe that I could actually understand what I was reading : the phenomenal power of the human mind .\"）を与え，その実行結果を確認せよ．"
   ]
  },
  {
   "cell_type": "code",
   "execution_count": 10,
   "metadata": {},
   "outputs": [
    {
     "name": "stdout",
     "output_type": "stream",
     "text": [
      "I c'ldonut beelive that I cuold atlaulcy utrnnsaded what I was rndiaeg : the paneoehmnl peowr of the hmaun mind .\n",
      "I c'uldont bveliee that I could auctally unrdstnaed what I was ridaeng : the peenonhaml pewor of the hmaun mind .\n"
     ]
    }
   ],
   "source": [
    "sentence = \"I couldn't believe that I could actually understand what I was reading : the phenomenal power of the human mind .\"\n",
    "words = sentence.split()\n",
    "\n",
    "import random\n",
    "\n",
    "print(\" \".join([i[0]+\"\".join(random.sample(i[1:-1], len(i[1:-1])))+i[-1] if len(i)>4 else i for i in words]))\n",
    "\n",
    "# 別解\n",
    "def typoglycemia(sentence):\n",
    "    words = sentence.split()\n",
    "    new_words = []\n",
    "    for i in words:\n",
    "        if len(i) > 4:\n",
    "            head = i[0]\n",
    "            tail = i[-1]\n",
    "            body = i[1:-1]\n",
    "            word = head+\"\".join(random.sample(body, len(body)))+tail\n",
    "        else:\n",
    "            word = i\n",
    "        new_words.append(word)\n",
    "    return \" \".join(new_words)\n",
    "        \n",
    "print(typoglycemia(sentence))"
   ]
  },
  {
   "cell_type": "code",
   "execution_count": null,
   "metadata": {},
   "outputs": [],
   "source": []
  }
 ],
 "metadata": {
  "kernelspec": {
   "display_name": "Python 3",
   "language": "python",
   "name": "python3"
  },
  "language_info": {
   "codemirror_mode": {
    "name": "ipython",
    "version": 3
   },
   "file_extension": ".py",
   "mimetype": "text/x-python",
   "name": "python",
   "nbconvert_exporter": "python",
   "pygments_lexer": "ipython3",
   "version": "3.7.3"
  }
 },
 "nbformat": 4,
 "nbformat_minor": 2
}
